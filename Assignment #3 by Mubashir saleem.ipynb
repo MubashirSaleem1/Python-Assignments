{
 "cells": [
  {
   "cell_type": "code",
   "execution_count": 41,
   "id": "aaba3851",
   "metadata": {},
   "outputs": [
    {
     "name": "stdout",
     "output_type": "stream",
     "text": [
      "Twinkle, twinkle, little star, \n",
      "\tHow I wonder what you are! \n",
      "\t\tUp above the world so high, \n",
      "\t\tLike a diamond in the sky. \n",
      "Twinkle, twinkle, little star, \n",
      "\tHow I wonder what you are\n"
     ]
    }
   ],
   "source": [
    "#1. Write a Python program to print the following string in a specific format (see the output). \n",
    "# Twinkle, twinkle, little star, \n",
    "     #How I wonder what you are! \n",
    "         #Up above the world so high, \n",
    "        #Like a diamond in the sky. \n",
    " #Twinkle, twinkle, little star, \n",
    " #How I wonder what you are \n",
    "\n",
    "print(\"Twinkle, twinkle, little star, \\n\\tHow I wonder what you are! \\n\\t\\tUp above the world so high, \\n\\t\\tLike a diamond in the sky. \\nTwinkle, twinkle, little star, \\n\\tHow I wonder what you are\")"
   ]
  },
  {
   "cell_type": "code",
   "execution_count": 42,
   "id": "0750f303",
   "metadata": {},
   "outputs": [
    {
     "name": "stdout",
     "output_type": "stream",
     "text": [
      "3.8.8 (default, Apr 13 2021, 15:08:03) [MSC v.1916 64 bit (AMD64)]\n"
     ]
    }
   ],
   "source": [
    "#2. Write a Python program to get the Python version you are using.\n",
    "\n",
    "import sys\n",
    "print(sys.version)"
   ]
  },
  {
   "cell_type": "code",
   "execution_count": 43,
   "id": "4c3842e1",
   "metadata": {},
   "outputs": [
    {
     "name": "stdout",
     "output_type": "stream",
     "text": [
      "Current Date & Time is : \n",
      "23-10-2021 19:52:17\n"
     ]
    }
   ],
   "source": [
    "#3. Write a Python program to display the current date and time.\n",
    "\n",
    "import datetime\n",
    "now = datetime.datetime.now()\n",
    "print (\"Current Date & Time is : \")\n",
    "print (now.strftime(\"%d-%m-%Y %H:%M:%S\"))"
   ]
  },
  {
   "cell_type": "code",
   "execution_count": 45,
   "id": "1d73e030",
   "metadata": {},
   "outputs": [
    {
     "name": "stdout",
     "output_type": "stream",
     "text": [
      "Put radius of circle : 9\n",
      "Area of the circle is: 254.46900494077323\n"
     ]
    }
   ],
   "source": [
    "#4. Write a Python program which accepts the radius of a circle from the user and compute the area.\n",
    "\n",
    "from math import pi\n",
    "r = float(input (\"Put radius of circle : \"))\n",
    "print (\"Area of the circle is: \" + str(pi * r**2))"
   ]
  },
  {
   "cell_type": "code",
   "execution_count": 4,
   "id": "cdba7322",
   "metadata": {},
   "outputs": [
    {
     "name": "stdout",
     "output_type": "stream",
     "text": [
      "Input your First Name : Mubashir\n",
      "Input your Last Name : Saleem\n",
      "Your reverse order name is: Saleem Mubashir\n"
     ]
    }
   ],
   "source": [
    "#5. Write a Python program which accepts the user's first and last name and print them in reverse order with a space between them.\n",
    "\n",
    "firstname = input(\"Input your First Name : \")\n",
    "lastname = input(\"Input your Last Name : \")\n",
    "print (\"Your reverse order name is: \" + lastname + \" \" + firstname)\n"
   ]
  },
  {
   "cell_type": "code",
   "execution_count": 5,
   "id": "c029e4c3",
   "metadata": {},
   "outputs": [
    {
     "name": "stdout",
     "output_type": "stream",
     "text": [
      "enter any first number: 4\n",
      "enter any second number: 9\n",
      "sum: 13\n"
     ]
    }
   ],
   "source": [
    "# 6. Write a python program which takes two inputs from user and print them addition.\n",
    "\n",
    "x = int(input(\"enter any first number: \"))\n",
    "y = int(input(\"enter any second number: \"))\n",
    "sum = x + y\n",
    "print(\"sum:\", sum)"
   ]
  },
  {
   "cell_type": "code",
   "execution_count": 4,
   "id": "2ab9c4b1",
   "metadata": {},
   "outputs": [
    {
     "name": "stdout",
     "output_type": "stream",
     "text": [
      "Enter English Marks: 99\n",
      "Enter Islamiyat Marks: 89\n",
      "Enter Math Marks: 88\n",
      "Enter Urdu Marks: 90\n",
      "Enter Science Marks: 96\n",
      "TOTAL MARKS IS OUT OF 500 is: 462\n",
      "The Percentage is: 92.4 %\n",
      "Your Grade is A+ Excellent\n"
     ]
    }
   ],
   "source": [
    "#7. Write a program which takes 5 inputs from user for different subject’s marks, total it and generate mark sheet using grades? \n",
    "\n",
    "English = int(input(\"Enter English Marks: \"))\n",
    "Islamiyat = int(input(\"Enter Islamiyat Marks: \"))\n",
    "Math = int(input(\"Enter Math Marks: \"))\n",
    "Urdu = int(input(\"Enter Urdu Marks: \"))\n",
    "Science = int(input(\"Enter Science Marks: \"))\n",
    "\n",
    "total_Marks= 500;\n",
    "total = English + Islamiyat + Math + Urdu + Science;\n",
    "print (\"TOTAL MARKS IS OUT OF 500 is:\",total);\n",
    "\n",
    "percentage = (English + Islamiyat + Math + Urdu + Science)/500 * 100;\n",
    "print (\"The Percentage is:\" , percentage,\"%\")\n",
    "\n",
    "if percentage < 100 and percentage >=90:\n",
    "    print(\"Your Grade is A+ Excellent\");\n",
    "elif percentage < 80 and percentage >=70:\n",
    "    print(\"Your Grade is A Very Good\");\n",
    "elif percentage < 70 and percentage >=50:\n",
    "    print(\"Your Grade is B Need More Improvements\");\n",
    "else:\n",
    "    print(\"Fail\");\n",
    "    print(\"Please Concentrate on your study\");"
   ]
  },
  {
   "cell_type": "code",
   "execution_count": 9,
   "id": "be0bb2a5",
   "metadata": {},
   "outputs": [
    {
     "name": "stdout",
     "output_type": "stream",
     "text": [
      "Enter a number: 77\n",
      "77 is Odd\n"
     ]
    }
   ],
   "source": [
    "#8. Write a program which take input from user and identify that the given number is even or odd?\n",
    "\n",
    "num = int(input(\"Enter a number: \"))\n",
    "if (num % 2) == 0:\n",
    "    print(\"{0} is Even\".format(num))\n",
    "else:\n",
    "    print(\"{0} is Odd\".format(num))"
   ]
  },
  {
   "cell_type": "code",
   "execution_count": 20,
   "id": "e7f2086f",
   "metadata": {},
   "outputs": [
    {
     "name": "stdout",
     "output_type": "stream",
     "text": [
      "7\n"
     ]
    }
   ],
   "source": [
    "#9. Write a program which print the length of the list?\n",
    "\n",
    "List = ['Google','Facebook','Linkedin','Pinterest','Instagram','Yahoo','Bing']\n",
    "length = len(List)\n",
    "print (length)"
   ]
  },
  {
   "cell_type": "code",
   "execution_count": 30,
   "id": "4ee0926d",
   "metadata": {},
   "outputs": [
    {
     "name": "stdout",
     "output_type": "stream",
     "text": [
      "151\n"
     ]
    }
   ],
   "source": [
    "#10. Write a Python program to sum all the numeric items in a list?\n",
    "\n",
    "list = [8,6,18,23,65,20,11]\n",
    "print (sum(list))"
   ]
  },
  {
   "cell_type": "code",
   "execution_count": 32,
   "id": "8660d4b8",
   "metadata": {},
   "outputs": [
    {
     "name": "stdout",
     "output_type": "stream",
     "text": [
      "Largest number from a numeric list is: 75\n"
     ]
    }
   ],
   "source": [
    "#11. Write a Python program to get the largest number from a numeric list.\n",
    "\n",
    "largestnumber = [27, 21, 44, 75, 29]\n",
    "largestnumber.sort()\n",
    "print(\"Largest number from a numeric list is:\", largestnumber[-1])"
   ]
  },
  {
   "cell_type": "code",
   "execution_count": 40,
   "id": "4eed0487",
   "metadata": {
    "scrolled": true
   },
   "outputs": [
    {
     "name": "stdout",
     "output_type": "stream",
     "text": [
      "1\n",
      "1\n",
      "2\n",
      "3\n"
     ]
    }
   ],
   "source": [
    "#12. Take a list, say for example this one: \n",
    "     # a = [1, 1, 2, 3, 5, 8, 13, 21, 34, 55, 89]\n",
    "    #Write a program that prints out all the elements of the list that are less than 5.\n",
    "    \n",
    "a = [1, 1, 2, 3, 5, 8, 13, 21, 34, 55, 89]\n",
    "for x in a:\n",
    "    if x < 5:\n",
    "        print(x)\n"
   ]
  },
  {
   "cell_type": "code",
   "execution_count": null,
   "id": "3aca3029",
   "metadata": {},
   "outputs": [],
   "source": []
  }
 ],
 "metadata": {
  "kernelspec": {
   "display_name": "Python 3",
   "language": "python",
   "name": "python3"
  },
  "language_info": {
   "codemirror_mode": {
    "name": "ipython",
    "version": 3
   },
   "file_extension": ".py",
   "mimetype": "text/x-python",
   "name": "python",
   "nbconvert_exporter": "python",
   "pygments_lexer": "ipython3",
   "version": "3.8.8"
  }
 },
 "nbformat": 4,
 "nbformat_minor": 5
}
